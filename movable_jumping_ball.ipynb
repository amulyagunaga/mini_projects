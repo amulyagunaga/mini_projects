{
 "cells": [
  {
   "cell_type": "code",
   "execution_count": 1,
   "id": "ecb0ca84-b62c-4ad8-af17-6c45a3078752",
   "metadata": {},
   "outputs": [
    {
     "name": "stdout",
     "output_type": "stream",
     "text": [
      "Requirement already satisfied: pygame in c:\\users\\amulya\\new folder\\anaconda\\lib\\site-packages (2.6.1)\n",
      "Note: you may need to restart the kernel to use updated packages.\n"
     ]
    }
   ],
   "source": [
    "pip install pygame\n"
   ]
  },
  {
   "cell_type": "code",
   "execution_count": 3,
   "id": "979629cd-c7a5-4f5c-9d11-09ab6f3d0a95",
   "metadata": {},
   "outputs": [],
   "source": [
    "import pygame\n",
    "import pygame.gfxdraw\n",
    "\n",
    "# Initialize Pygame\n",
    "pygame.init()\n",
    "\n",
    "# Screen settings\n",
    "WIDTH, HEIGHT = 600, 400\n",
    "screen = pygame.display.set_mode((WIDTH, HEIGHT), pygame.DOUBLEBUF)\n",
    "pygame.display.set_caption(\"Movable Jumping Ball\")\n",
    "\n",
    "# Ball properties\n",
    "ball_color = (255, 100, 50)\n",
    "ball_radius = 30\n",
    "ball_x = WIDTH // 2\n",
    "ball_y = HEIGHT - ball_radius\n",
    "velocity_x, velocity_y = 0, 0\n",
    "speed = 5  # Movement speed\n",
    "gravity = 0.5\n",
    "jump_strength = -12\n",
    "elasticity = 0.8  # Bounciness\n",
    "friction = 0.9  # Reduce horizontal speed gradually\n",
    "\n",
    "clock = pygame.time.Clock()\n",
    "running = True\n",
    "on_ground = True\n",
    "\n",
    "def draw_ellipse(surface, x, y, radius, stretch_x, stretch_y):\n",
    "    \"\"\" Draws an optimized ellipse using gfxdraw. \"\"\"\n",
    "    pygame.gfxdraw.filled_ellipse(surface, int(x), int(y), int(radius * stretch_x), int(radius * stretch_y), ball_color)\n",
    "\n",
    "while running:\n",
    "    screen.fill((30, 30, 30))  # Background color\n",
    "\n",
    "    # Apply gravity only if in the air\n",
    "    if not on_ground:\n",
    "        velocity_y += gravity\n",
    "\n",
    "    ball_y += velocity_y\n",
    "    ball_x += velocity_x\n",
    "\n",
    "    # Check if ball hits the ground\n",
    "    if ball_y + ball_radius >= HEIGHT:\n",
    "        ball_y = HEIGHT - ball_radius\n",
    "        velocity_y = -velocity_y * elasticity  # Bounce effect\n",
    "        on_ground = True\n",
    "    else:\n",
    "        on_ground = False\n",
    "\n",
    "    # Left/Right movement with friction\n",
    "    keys = pygame.key.get_pressed()\n",
    "    if keys[pygame.K_LEFT]:\n",
    "        velocity_x = -speed\n",
    "    elif keys[pygame.K_RIGHT]:\n",
    "        velocity_x = speed\n",
    "    else:\n",
    "        velocity_x *= friction  # Slow down gradually when no key is pressed\n",
    "\n",
    "    # Jump when pressing SPACE\n",
    "    if keys[pygame.K_SPACE] and on_ground:\n",
    "        velocity_y = jump_strength\n",
    "\n",
    "    # Keep ball within screen bounds\n",
    "    if ball_x - ball_radius < 0:\n",
    "        ball_x = ball_radius\n",
    "        velocity_x = 0\n",
    "    if ball_x + ball_radius > WIDTH:\n",
    "        ball_x = WIDTH - ball_radius\n",
    "        velocity_x = 0\n",
    "\n",
    "    # Elastic deformation effect\n",
    "    stretch_x = 1 + abs(velocity_x) * 0.02\n",
    "    stretch_y = max(0.6, 1 - abs(velocity_y) * 0.03)  # Prevent excessive compression\n",
    "\n",
    "    # Draw the elastic ball\n",
    "    draw_ellipse(screen, ball_x, ball_y, ball_radius, stretch_x, stretch_y)\n",
    "\n",
    "    # Event handling\n",
    "    for event in pygame.event.get():\n",
    "        if event.type == pygame.QUIT:\n",
    "            running = False\n",
    "\n",
    "    pygame.display.flip()\n",
    "    clock.tick(120)  # Runs at 120 FPS for smooth animation\n",
    "\n",
    "pygame.quit()\n"
   ]
  },
  {
   "cell_type": "code",
   "execution_count": null,
   "id": "21262f3a-8352-4bca-ad76-1627b8f3a794",
   "metadata": {},
   "outputs": [],
   "source": []
  }
 ],
 "metadata": {
  "kernelspec": {
   "display_name": "Python 3 (ipykernel)",
   "language": "python",
   "name": "python3"
  },
  "language_info": {
   "codemirror_mode": {
    "name": "ipython",
    "version": 3
   },
   "file_extension": ".py",
   "mimetype": "text/x-python",
   "name": "python",
   "nbconvert_exporter": "python",
   "pygments_lexer": "ipython3",
   "version": "3.12.4"
  }
 },
 "nbformat": 4,
 "nbformat_minor": 5
}
